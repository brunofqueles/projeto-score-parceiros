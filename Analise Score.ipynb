{
 "cells": [
  {
   "cell_type": "code",
   "execution_count": 0,
   "metadata": {
    "application/vnd.databricks.v1+cell": {
     "cellMetadata": {
      "byteLimit": 2048000,
      "implicitDf": true,
      "rowLimit": 10000
     },
     "inputWidgets": {},
     "nuid": "838b55f1-6744-4d16-aeeb-790b6892d0b2",
     "showTitle": false,
     "tableResultSettingsMap": {},
     "title": ""
    }
   },
   "outputs": [],
   "source": [
    "%sql\n",
    "SELECT * FROM score_parceiros.db_score.score_dados_historicos LIMIT 5;"
   ]
  },
  {
   "cell_type": "code",
   "execution_count": 0,
   "metadata": {
    "application/vnd.databricks.v1+cell": {
     "cellMetadata": {
      "byteLimit": 2048000,
      "implicitDf": true,
      "rowLimit": 10000
     },
     "collapsed": true,
     "inputWidgets": {},
     "nuid": "6208d7b3-4104-4ce7-9803-4e378a693fce",
     "showTitle": false,
     "tableResultSettingsMap": {},
     "title": ""
    }
   },
   "outputs": [],
   "source": [
    "%sql\n",
    "-- Cria a tabela bronze_score\n",
    "CREATE TABLE score_parceiros.db_score.bronze_score (\n",
    "  Fornecedor STRING,\n",
    "  CNPJ STRING,\n",
    "  `Data_Avaliacao` STRING,\n",
    "  Financeiro STRING,\n",
    "  Operacional STRING,\n",
    "  RH STRING,\n",
    "  ESG STRING,\n",
    "  Juridico STRING,\n",
    "  data_da_carga TIMESTAMP\n",
    ");"
   ]
  },
  {
   "cell_type": "code",
   "execution_count": 0,
   "metadata": {
    "application/vnd.databricks.v1+cell": {
     "cellMetadata": {
      "byteLimit": 2048000,
      "implicitDf": true,
      "rowLimit": 10000
     },
     "collapsed": true,
     "inputWidgets": {},
     "nuid": "1cea3989-ad4f-47af-ba2f-6451dbd57060",
     "showTitle": false,
     "tableResultSettingsMap": {},
     "title": ""
    }
   },
   "outputs": [],
   "source": [
    "%sql\n",
    "-- Popula a tabela bronze_score\n",
    "INSERT INTO score_parceiros.db_score.bronze_score\n",
    "SELECT\n",
    "  Fornecedor,\n",
    "  CNPJ,\n",
    "  `Data Avaliação`,\n",
    "  Financeiro,\n",
    "  Operacional,\n",
    "  RH,\n",
    "  ESG,\n",
    "  `Jurídico`,\n",
    "  current_timestamp() AS data_da_carga\n",
    "FROM score_parceiros.db_score.score_dados_historicos;"
   ]
  },
  {
   "cell_type": "code",
   "execution_count": 0,
   "metadata": {
    "application/vnd.databricks.v1+cell": {
     "cellMetadata": {
      "byteLimit": 2048000,
      "implicitDf": true,
      "rowLimit": 10000
     },
     "collapsed": true,
     "inputWidgets": {},
     "nuid": "06a99a62-c046-474b-89a1-cb8a6e1caa8a",
     "showTitle": false,
     "tableResultSettingsMap": {},
     "title": ""
    }
   },
   "outputs": [],
   "source": [
    "%sql\n",
    "SELECT * FROM score_parceiros.db_score.bronze_score"
   ]
  }
 ],
 "metadata": {
  "application/vnd.databricks.v1+notebook": {
   "computePreferences": null,
   "dashboards": [],
   "environmentMetadata": {
    "base_environment": "",
    "environment_version": "3"
   },
   "inputWidgetPreferences": null,
   "language": "python",
   "notebookMetadata": {
    "mostRecentlyExecutedCommandWithImplicitDF": {
     "commandId": 7352620103199314,
     "dataframes": [
      "_sqldf"
     ]
    },
    "pythonIndentUnit": 4
   },
   "notebookName": "Analise Score",
   "widgets": {}
  },
  "language_info": {
   "name": "python"
  }
 },
 "nbformat": 4,
 "nbformat_minor": 0
}
