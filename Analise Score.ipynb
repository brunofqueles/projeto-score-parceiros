{
 "cells": [
  {
   "cell_type": "code",
   "execution_count": 0,
   "metadata": {
    "application/vnd.databricks.v1+cell": {
     "cellMetadata": {
      "byteLimit": 2048000,
      "implicitDf": true,
      "rowLimit": 10000
     },
     "collapsed": true,
     "inputWidgets": {},
     "nuid": "838b55f1-6744-4d16-aeeb-790b6892d0b2",
     "showTitle": false,
     "tableResultSettingsMap": {},
     "title": ""
    }
   },
   "outputs": [],
   "source": [
    "%sql\n",
    "SELECT * FROM score_parceiros.db_score.score_dados_historicos LIMIT 5;"
   ]
  },
  {
   "cell_type": "code",
   "execution_count": 0,
   "metadata": {
    "application/vnd.databricks.v1+cell": {
     "cellMetadata": {
      "byteLimit": 2048000,
      "implicitDf": true,
      "rowLimit": 10000
     },
     "collapsed": true,
     "inputWidgets": {},
     "nuid": "6208d7b3-4104-4ce7-9803-4e378a693fce",
     "showTitle": false,
     "tableResultSettingsMap": {},
     "title": ""
    }
   },
   "outputs": [],
   "source": [
    "%sql\n",
    "-- Cria a tabela bronze_score\n",
    "CREATE TABLE score_parceiros.db_score.bronze_score (\n",
    "  Fornecedor STRING,\n",
    "  CNPJ STRING,\n",
    "  `Data_Avaliacao` STRING,\n",
    "  Financeiro STRING,\n",
    "  Operacional STRING,\n",
    "  RH STRING,\n",
    "  ESG STRING,\n",
    "  Juridico STRING,\n",
    "  data_da_carga TIMESTAMP\n",
    ");"
   ]
  },
  {
   "cell_type": "code",
   "execution_count": 0,
   "metadata": {
    "application/vnd.databricks.v1+cell": {
     "cellMetadata": {
      "byteLimit": 2048000,
      "implicitDf": true,
      "rowLimit": 10000
     },
     "collapsed": true,
     "inputWidgets": {},
     "nuid": "1cea3989-ad4f-47af-ba2f-6451dbd57060",
     "showTitle": false,
     "tableResultSettingsMap": {},
     "title": ""
    }
   },
   "outputs": [],
   "source": [
    "%sql\n",
    "-- Popula a tabela bronze_score\n",
    "INSERT INTO score_parceiros.db_score.bronze_score\n",
    "SELECT\n",
    "  Fornecedor,\n",
    "  CNPJ,\n",
    "  `Data Avaliação`,\n",
    "  Financeiro,\n",
    "  Operacional,\n",
    "  RH,\n",
    "  ESG,\n",
    "  `Jurídico`,\n",
    "  current_timestamp() AS data_da_carga\n",
    "FROM score_parceiros.db_score.score_dados_historicos;"
   ]
  },
  {
   "cell_type": "code",
   "execution_count": 0,
   "metadata": {
    "application/vnd.databricks.v1+cell": {
     "cellMetadata": {
      "byteLimit": 2048000,
      "implicitDf": true,
      "rowLimit": 10000
     },
     "inputWidgets": {},
     "nuid": "06a99a62-c046-474b-89a1-cb8a6e1caa8a",
     "showTitle": false,
     "tableResultSettingsMap": {},
     "title": ""
    }
   },
   "outputs": [],
   "source": [
    "%sql\n",
    "SELECT * FROM score_parceiros.db_score.bronze_score limit 3"
   ]
  },
  {
   "cell_type": "code",
   "execution_count": 0,
   "metadata": {
    "application/vnd.databricks.v1+cell": {
     "cellMetadata": {
      "byteLimit": 2048000,
      "implicitDf": true,
      "rowLimit": 10000
     },
     "inputWidgets": {},
     "nuid": "c1e1f656-9126-44dc-83b6-09d63ecb8ced",
     "showTitle": false,
     "tableResultSettingsMap": {},
     "title": ""
    }
   },
   "outputs": [],
   "source": [
    "%sql\n",
    "-- Criação da tabela Silver \n",
    "\n",
    "CREATE TABLE score_parceiros.db_score.silver_score AS\n",
    "SELECT\n",
    "  Fornecedor,\n",
    "  CNPJ,\n",
    "  CAST(`Data_Avaliacao` AS DATE) AS Data_Avaliacao,\n",
    "  CAST(Financeiro AS INTEGER) AS Financeiro,\n",
    "  CAST(Operacional AS INTEGER) AS Operacional,\n",
    "  CAST(RH AS INTEGER) AS RH,\n",
    "  CAST(ESG AS INTEGER) AS ESG,\n",
    "  CAST(Juridico AS INTEGER) AS Juridico,\n",
    "  data_da_carga\n",
    "FROM\n",
    "  score_parceiros.db_score.bronze_score"
   ]
  },
  {
   "cell_type": "code",
   "execution_count": 0,
   "metadata": {
    "application/vnd.databricks.v1+cell": {
     "cellMetadata": {
      "byteLimit": 2048000,
      "implicitDf": true,
      "rowLimit": 10000
     },
     "inputWidgets": {},
     "nuid": "5ee36b5c-c49d-4bb1-96c8-db482deecf03",
     "showTitle": false,
     "tableResultSettingsMap": {},
     "title": ""
    }
   },
   "outputs": [],
   "source": [
    "%sql\n",
    "SELECT * FROM score_parceiros.db_score.silver_score LIMIT 3"
   ]
  },
  {
   "cell_type": "code",
   "execution_count": 0,
   "metadata": {
    "application/vnd.databricks.v1+cell": {
     "cellMetadata": {
      "byteLimit": 2048000,
      "implicitDf": true,
      "rowLimit": 10000
     },
     "inputWidgets": {},
     "nuid": "f355f1e5-091b-43ad-9438-580369348712",
     "showTitle": false,
     "tableResultSettingsMap": {},
     "title": ""
    }
   },
   "outputs": [],
   "source": [
    "%sql\n",
    "-- Incluir colunas dos indicadores na tabela silver\n",
    "ALTER TABLE score_parceiros.db_score.silver_score ADD COLUMN Financeiro_Avaliacao STRING;\n",
    "ALTER TABLE score_parceiros.db_score.silver_score ADD COLUMN Operacional_Avaliacao STRING;\n",
    "ALTER TABLE score_parceiros.db_score.silver_score ADD COLUMN RH_Avaliacao STRING;\n",
    "ALTER TABLE score_parceiros.db_score.silver_score ADD COLUMN ESG_Avaliacao STRING;\n",
    "ALTER TABLE score_parceiros.db_score.silver_score ADD COLUMN Juridico_Avaliacao STRING;"
   ]
  },
  {
   "cell_type": "code",
   "execution_count": 0,
   "metadata": {
    "application/vnd.databricks.v1+cell": {
     "cellMetadata": {
      "byteLimit": 2048000,
      "implicitDf": true,
      "rowLimit": 10000
     },
     "inputWidgets": {},
     "nuid": "7ffcbd43-de07-40ce-8492-35cfeefc6b9c",
     "showTitle": false,
     "tableResultSettingsMap": {},
     "title": ""
    }
   },
   "outputs": [],
   "source": [
    "%sql\n",
    "-- Populando os indicadores\n",
    "UPDATE score_parceiros.db_score.silver_score\n",
    "SET\n",
    "  Financeiro_Avaliacao = CASE\n",
    "    WHEN Financeiro = 1 THEN 'Ruim'\n",
    "    WHEN Financeiro = 2 THEN 'Médio'\n",
    "    WHEN Financeiro = 3 THEN 'Bom'\n",
    "    ELSE NULL\n",
    "  END,\n",
    "  Operacional_Avaliacao = CASE\n",
    "    WHEN Operacional = 1 THEN 'Ruim'\n",
    "    WHEN Operacional = 2 THEN 'Médio'\n",
    "    WHEN Operacional = 3 THEN 'Bom'\n",
    "    ELSE NULL\n",
    "  END,\n",
    "  RH_Avaliacao = CASE\n",
    "    WHEN RH = 1 THEN 'Ruim'\n",
    "    WHEN RH = 2 THEN 'Médio'\n",
    "    WHEN RH = 3 THEN 'Bom'\n",
    "    ELSE NULL\n",
    "  END,\n",
    "  ESG_Avaliacao = CASE\n",
    "    WHEN ESG = 1 THEN 'Ruim'\n",
    "    WHEN ESG = 2 THEN 'Médio'\n",
    "    WHEN ESG = 3 THEN 'Bom'\n",
    "    ELSE NULL\n",
    "  END,\n",
    "  Juridico_Avaliacao = CASE\n",
    "    WHEN Juridico = 1 THEN 'Ruim'\n",
    "    WHEN Juridico = 2 THEN 'Médio'\n",
    "    WHEN Juridico = 3 THEN 'Bom'\n",
    "    ELSE NULL\n",
    "  END;"
   ]
  },
  {
   "cell_type": "code",
   "execution_count": 0,
   "metadata": {
    "application/vnd.databricks.v1+cell": {
     "cellMetadata": {
      "byteLimit": 2048000,
      "implicitDf": true,
      "rowLimit": 10000
     },
     "inputWidgets": {},
     "nuid": "a2de6cd7-da35-4b39-ac4f-e14597479c95",
     "showTitle": false,
     "tableResultSettingsMap": {},
     "title": ""
    }
   },
   "outputs": [],
   "source": [
    "%sql\n",
    "SELECT * FROM score_parceiros.db_score.silver_score LIMIT 3"
   ]
  }
 ],
 "metadata": {
  "application/vnd.databricks.v1+notebook": {
   "computePreferences": null,
   "dashboards": [],
   "environmentMetadata": {
    "base_environment": "",
    "environment_version": "3"
   },
   "inputWidgetPreferences": null,
   "language": "python",
   "notebookMetadata": {
    "mostRecentlyExecutedCommandWithImplicitDF": {
     "commandId": 7486766114950514,
     "dataframes": [
      "_sqldf"
     ]
    },
    "pythonIndentUnit": 4
   },
   "notebookName": "Analise Score",
   "widgets": {}
  },
  "language_info": {
   "name": "python"
  }
 },
 "nbformat": 4,
 "nbformat_minor": 0
}
